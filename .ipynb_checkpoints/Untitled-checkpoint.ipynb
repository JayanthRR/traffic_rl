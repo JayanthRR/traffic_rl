{
 "cells": [
  {
   "cell_type": "code",
   "execution_count": 298,
   "metadata": {},
   "outputs": [],
   "source": [
    "import numpy as np\n",
    "import matplotlib.pyplot as plt\n",
    "import scipy\n",
    "import math\n",
    "from math import inf, log\n",
    "import queue as Q\n",
    "np.random.seed = 0"
   ]
  },
  {
   "cell_type": "code",
   "execution_count": 2,
   "metadata": {},
   "outputs": [],
   "source": [
    "def exponential(lamda, k):\n",
    "    return np.random.exponential(scale=1/lamda, size=k)\n",
    "\n",
    "def gaussian(mean, sigma, k):\n",
    "    return np.random.normal(loc=mean, scale=sigma, size=k)\n"
   ]
  },
  {
   "cell_type": "code",
   "execution_count": 3,
   "metadata": {},
   "outputs": [],
   "source": [
    "def generate_column_stochastic_matrix(n):\n",
    "    # Doesn't generate a sparse matrix. The degree of each link can be as high as n-1. \n",
    "    # Todo: Think of how to make a sparse matrix (to mimic road network geometry)\n",
    "    A = np.random.rand(n,n)\n",
    "    temp = np.random.choice([0,1], (n,n), p=[0.7,0.3])\n",
    "    A = np.multiply(A, temp)\n",
    "    A = A/A.sum(axis=0)\n",
    "    return A\n",
    "\n",
    "def generate_signal(st):\n",
    "    # deterministically right shifts each signal in the signal vector\n",
    "    s = []\n",
    "    s.append(st[-1])\n",
    "    s.extend(st[:-1])\n",
    "    return s\n",
    "\n"
   ]
  },
  {
   "cell_type": "code",
   "execution_count": 4,
   "metadata": {},
   "outputs": [],
   "source": [
    "def signalized(A, signal):\n",
    "    # signal is a n length vector, which determines the signal on that specific link. Takes values 0 or 1\n",
    "    # convention: 1 for red, 0 for green\n",
    "    for i in range(len(signal)):\n",
    "        if signal[i]==1:\n",
    "            A[:,i] = [1 if j==i else 0 for j in range(len(signal))]\n",
    "    \n",
    "    return A"
   ]
  },
  {
   "cell_type": "code",
   "execution_count": 5,
   "metadata": {},
   "outputs": [],
   "source": [
    "def state_transition(A, xt, st, mean=0, sigma=0.1, signal_flag=0):\n",
    "    c = 1\n",
    "    wt = 1* gaussian(mean, sigma, len(xt))\n",
    "    # if signalized intersections are used\n",
    "    if signal_flag==1:\n",
    "\n",
    "        st = generate_signal(st)\n",
    "        x_t1 = np.matmul(signalized(A, st), xt) + wt\n",
    "    else:\n",
    "        x_t1 = np.matmul(A, xt) + wt\n",
    "\n",
    "    x_t1 = np.minimum(np.maximum(x_t1, np.zeros(len(xt))), c* np.ones(len(xt)))\n",
    "    \n",
    "    return x_t1, st"
   ]
  },
  {
   "cell_type": "code",
   "execution_count": null,
   "metadata": {},
   "outputs": [],
   "source": [
    "time_steps = 100\n",
    "size= 5\n",
    "A = generate_column_stochastic_matrix(size)\n",
    "st = np.random.choice([0,1], size=size, p=[1./3, 2./3])\n",
    "\n",
    "W = []\n",
    "for i in range(time_steps):\n",
    "    W.append( gaussian(0,0.1, size))\n",
    "    \n",
    "\n"
   ]
  },
  {
   "cell_type": "code",
   "execution_count": null,
   "metadata": {},
   "outputs": [],
   "source": [
    "xt = x_init = np.ones(size)/size\n",
    "mean = 0\n",
    "X = []\n",
    "S = []\n",
    "X.append(x_init)\n",
    "S.append(st)\n",
    "# print(A, A.sum(axis=0))\n",
    "\n",
    "for i in range(time_steps):\n",
    "    \n",
    "    xt, st = state_transition(A, xt, st, mean=mean, signal_flag=0)\n",
    "\n",
    "    X.append(xt)\n",
    "    S.append(st)\n",
    "\n",
    "    #     print(mean)"
   ]
  },
  {
   "cell_type": "code",
   "execution_count": null,
   "metadata": {},
   "outputs": [],
   "source": [
    "%matplotlib inline\n",
    "X = np.array(X)\n",
    "S = np.array(S)\n",
    "for i in range(size):\n",
    "    plt.plot(X[:,i])\n",
    "\n",
    "# for j in range(size):\n",
    "#     plt.plot(S[:,i])"
   ]
  },
  {
   "cell_type": "code",
   "execution_count": null,
   "metadata": {},
   "outputs": [],
   "source": [
    "%matplotlib inline\n",
    "X = np.array(X)\n",
    "S = np.array(S)\n",
    "for i in range(size):\n",
    "    plt.plot(X[:,i])\n",
    "\n",
    "# for j in range(size):\n",
    "#     plt.plot(S[:,i])"
   ]
  },
  {
   "cell_type": "code",
   "execution_count": 339,
   "metadata": {},
   "outputs": [],
   "source": [
    "def greedy(A, xt, source, destination):\n",
    "    # source is the current link and the destination is the destination link\n",
    "    next_node = None\n",
    "    min_cost = inf\n",
    "    for j in range(A.shape[0]):\n",
    "        if (j != source) and (A[j,source]>float(0)):\n",
    "            if min_cost > xt[j]:\n",
    "                next_node = j\n",
    "                min_cost = xt[j]\n",
    "            if j == destination:\n",
    "                next_node = j\n",
    "                min_cost = xt[j]\n",
    "                break\n",
    "    # this part deals with when there is no way out from the current link. (Have to deal with this separately\n",
    "    # in the signalized case.)\n",
    "    if next_node==None:\n",
    "        next_node = source\n",
    "        min_cost = xt[source]\n",
    "    \n",
    "    return next_node, min_cost"
   ]
  },
  {
   "cell_type": "code",
   "execution_count": 7,
   "metadata": {},
   "outputs": [
    {
     "data": {
      "text/plain": [
       "(array([[0.        , 0.        , 0.3113048 , 0.        , 0.56687004],\n",
       "        [1.        , 0.        , 0.        , 1.        , 0.43312996],\n",
       "        [0.        , 0.        , 0.        , 0.        , 0.        ],\n",
       "        [0.        , 0.82739013, 0.6886952 , 0.        , 0.        ],\n",
       "        [0.        , 0.17260987, 0.        , 0.        , 0.        ]]),\n",
       " array([0.28198899, 0.35940659, 0.05439591, 0.27484779, 0.02936072]))"
      ]
     },
     "execution_count": 7,
     "metadata": {},
     "output_type": "execute_result"
    }
   ],
   "source": [
    "xt = np.random.rand(5)\n",
    "xt = xt/xt.sum()\n",
    "A=generate_column_stochastic_matrix(5)\n",
    "A, xt"
   ]
  },
  {
   "cell_type": "code",
   "execution_count": null,
   "metadata": {},
   "outputs": [],
   "source": [
    "greedy(A, xt, 2,1)\n",
    "greedy(A, xt, 4,1)"
   ]
  },
  {
   "cell_type": "code",
   "execution_count": 352,
   "metadata": {},
   "outputs": [],
   "source": [
    "\"\"\"Variant of dijkstra implementation. Here A is not adjacency matrix wrt nodes, but wrt edges. so A(i,j) doesn't\n",
    "add any significance apart from determining the adjacent edges. The cost computation is performed using xt. \n",
    "\"\"\"\n",
    "\n",
    "def get_adjacent_edges(A, current_edge):\n",
    "    adj = []\n",
    "    for i in range(A.shape[0]):\n",
    "        if A[current_edge, i] >0:\n",
    "            adj.append(i)\n",
    "    return adj\n",
    "\n",
    "class Edge:\n",
    "    def __init__(self):\n",
    "        self.distance = math.inf\n",
    "        self.parent = None\n",
    "\n",
    "        \n",
    "    \n",
    "def dijkstra(A, xt, source, destination):\n",
    "\n",
    "    edges = [Edge() for j in range(len(xt))]\n",
    "    edges[source].distance = 0\n",
    "\n",
    "    colored_edges = []\n",
    "\n",
    "    q = Q.PriorityQueue()\n",
    "    for j in range(len(xt)):\n",
    "        q.put((edges[j].distance, j))\n",
    "\n",
    "    while not q.empty():\n",
    "        _, current_edge = q.get()\n",
    "        if current_edge not in colored_edges: \n",
    "            colored_edges.append(current_edge)\n",
    "        adj = get_adjacent_edges(A, current_edge)\n",
    "        for j in adj:\n",
    "            if edges[j].distance > edges[current_edge].distance + xt[j]:\n",
    "                edges[j].distance = edges[current_edge].distance + xt[j]\n",
    "                edges[j].parent = current_edge\n",
    "                \n",
    "    if destination not in colored_edges:\n",
    "        print(\"no route found\")\n",
    "                \n",
    "    return edges, colored_edges\n",
    "                \n",
    "\n",
    "def dijkstra_policy(A, xt, source, destination):\n",
    "    # chooses just the next edge to traverse\n",
    "    path = []\n",
    "    edges, colored_edges = dijkstra(A, xt, source, destination)\n",
    "    print(colored_edges)\n",
    "    if destination in colored_edges:\n",
    "        # path is found\n",
    "        prev = edges[destination].parent\n",
    "        path.append(prev)\n",
    "        while prev is not None:\n",
    "            temp = edges[prev].parent\n",
    "            path.append(temp)\n",
    "            prev = temp\n",
    "            if temp==source:\n",
    "                decision = prev\n",
    "                break\n",
    "        return decision, edges[destination].distance\n",
    "    else:\n",
    "        return greedy(A, xt, source, destination)"
   ]
  },
  {
   "cell_type": "code",
   "execution_count": 334,
   "metadata": {},
   "outputs": [
    {
     "data": {
      "text/plain": [
       "array([[0.        , 0.        , 0.40217075, 0.9432341 , 0.        ],\n",
       "       [0.        , 0.        , 0.        , 0.0567659 , 0.        ],\n",
       "       [0.        , 0.        , 0.        , 0.        , 0.        ],\n",
       "       [0.        , 0.        , 0.17061601, 0.        , 1.        ],\n",
       "       [1.        , 1.        , 0.42721324, 0.        , 0.        ]])"
      ]
     },
     "execution_count": 334,
     "metadata": {},
     "output_type": "execute_result"
    }
   ],
   "source": [
    "size=5\n",
    "xt = np.random.rand(size)\n",
    "xt = xt/xt.sum()\n",
    "st = np.random.choice([0,1], size=size, p=[2./3, 1./3])\n",
    "A=generate_column_stochastic_matrix(size)\n",
    "A"
   ]
  },
  {
   "cell_type": "code",
   "execution_count": 337,
   "metadata": {},
   "outputs": [
    {
     "name": "stdout",
     "output_type": "stream",
     "text": [
      "[0.0043518  0.25603159 0.16030053 0.2991527  0.28016339]\n",
      "0 None\n",
      "0.8353476743314578 4\n",
      "0.1603005280258729 0\n",
      "0.29915270027595864 0\n",
      "0.5793160861863438 3\n"
     ]
    }
   ],
   "source": [
    "ed = dijkstra(A, xt, source=0, destination=size-1)\n",
    "print(xt)\n",
    "for e in ed:\n",
    "    print(e.distance, e.parent)"
   ]
  },
  {
   "cell_type": "code",
   "execution_count": 342,
   "metadata": {},
   "outputs": [],
   "source": [
    "def follow_model(A, x_init, s_init, source, destination, policy, signal_flag=0):\n",
    "\n",
    "    xt = x_init\n",
    "    st = s_init\n",
    "    X = []\n",
    "    S = []\n",
    "    X.append(xt)\n",
    "    S.append(st)\n",
    "\n",
    "    current_link = source\n",
    "    cost_incurred = 0\n",
    "\n",
    "    print(current_link, cost_incurred, xt, destination)\n",
    "    \n",
    "    while current_link is not destination:\n",
    "        print(current_link)\n",
    "        decision,_ = policy(A, xt,current_link, destination)\n",
    "        xt, st = state_transition(A, xt, st, signal_flag=signal_flag)\n",
    "        X.append(xt)\n",
    "        S.append(st)\n",
    "#         if decision is not None:\n",
    "        cost_incurred += compute_cost(xt, decision)\n",
    "#         print(decision, cost_incurred)\n",
    "        current_link = decision\n",
    "        print(current_link, cost_incurred, st, destination)\n",
    "        if len(X) == 10 * len(x_init)**2:\n",
    "            break\n",
    "#         else:\n",
    "#             print(\"no path found\")\n",
    "#             break\n",
    "        \n",
    "    return cost_incurred\n",
    "\n",
    "def cost_function(x):\n",
    "    # think of a better cost function that is smooth and monotone increasing\n",
    "#     return log(1+x)\n",
    "    return x\n",
    "\n",
    "def compute_cost(xt, current_link):\n",
    "    return xt[current_link]\n",
    "#     return cost_function(xt[current_link])\n"
   ]
  },
  {
   "cell_type": "code",
   "execution_count": 350,
   "metadata": {},
   "outputs": [],
   "source": [
    "size=15\n",
    "xt = np.random.rand(size)\n",
    "xt = xt/xt.sum()\n",
    "st = np.random.choice([0,1], size=size, p=[2./3, 1./3])\n",
    "A=generate_column_stochastic_matrix(size)\n"
   ]
  },
  {
   "cell_type": "code",
   "execution_count": 351,
   "metadata": {},
   "outputs": [
    {
     "name": "stdout",
     "output_type": "stream",
     "text": [
      "6 0 [0.07020058 0.01856056 0.0956608  0.03729572 0.08871932 0.11945249\n",
      " 0.07403184 0.1186554  0.10227207 0.08125344 0.06605803 0.00098306\n",
      " 0.02411271 0.09435559 0.00838838] 8\n",
      "6\n",
      "[0.07020058 0.01856056 0.0956608  0.03729572 0.08871932 0.11945249\n",
      " 0.07403184 0.1186554  0.10227207 0.08125344 0.06605803 0.00098306\n",
      " 0.02411271 0.09435559 0.00838838] 15\n"
     ]
    },
    {
     "ename": "KeyboardInterrupt",
     "evalue": "",
     "output_type": "error",
     "traceback": [
      "\u001b[0;31m---------------------------------------------------------------------------\u001b[0m",
      "\u001b[0;31mKeyboardInterrupt\u001b[0m                         Traceback (most recent call last)",
      "\u001b[0;32m<ipython-input-351-863873b51425>\u001b[0m in \u001b[0;36m<module>\u001b[0;34m()\u001b[0m\n\u001b[0;32m----> 1\u001b[0;31m \u001b[0mfollow_model\u001b[0m\u001b[0;34m(\u001b[0m\u001b[0mA\u001b[0m\u001b[0;34m,\u001b[0m \u001b[0mxt\u001b[0m\u001b[0;34m,\u001b[0m\u001b[0mst\u001b[0m\u001b[0;34m,\u001b[0m \u001b[0msource\u001b[0m\u001b[0;34m=\u001b[0m\u001b[0;36m6\u001b[0m\u001b[0;34m,\u001b[0m \u001b[0mdestination\u001b[0m\u001b[0;34m=\u001b[0m\u001b[0;36m8\u001b[0m\u001b[0;34m,\u001b[0m \u001b[0mpolicy\u001b[0m\u001b[0;34m=\u001b[0m\u001b[0mdijkstra_policy\u001b[0m\u001b[0;34m,\u001b[0m \u001b[0msignal_flag\u001b[0m\u001b[0;34m=\u001b[0m\u001b[0;36m0\u001b[0m\u001b[0;34m)\u001b[0m\u001b[0;34m\u001b[0m\u001b[0m\n\u001b[0m",
      "\u001b[0;32m<ipython-input-342-48cc64cb61f6>\u001b[0m in \u001b[0;36mfollow_model\u001b[0;34m(A, x_init, s_init, source, destination, policy, signal_flag)\u001b[0m\n\u001b[1;32m     15\u001b[0m     \u001b[0;32mwhile\u001b[0m \u001b[0mcurrent_link\u001b[0m \u001b[0;32mis\u001b[0m \u001b[0;32mnot\u001b[0m \u001b[0mdestination\u001b[0m\u001b[0;34m:\u001b[0m\u001b[0;34m\u001b[0m\u001b[0m\n\u001b[1;32m     16\u001b[0m         \u001b[0mprint\u001b[0m\u001b[0;34m(\u001b[0m\u001b[0mcurrent_link\u001b[0m\u001b[0;34m)\u001b[0m\u001b[0;34m\u001b[0m\u001b[0m\n\u001b[0;32m---> 17\u001b[0;31m         \u001b[0mdecision\u001b[0m\u001b[0;34m,\u001b[0m\u001b[0m_\u001b[0m \u001b[0;34m=\u001b[0m \u001b[0mpolicy\u001b[0m\u001b[0;34m(\u001b[0m\u001b[0mA\u001b[0m\u001b[0;34m,\u001b[0m \u001b[0mxt\u001b[0m\u001b[0;34m,\u001b[0m\u001b[0mcurrent_link\u001b[0m\u001b[0;34m,\u001b[0m \u001b[0mdestination\u001b[0m\u001b[0;34m)\u001b[0m\u001b[0;34m\u001b[0m\u001b[0m\n\u001b[0m\u001b[1;32m     18\u001b[0m         \u001b[0mxt\u001b[0m\u001b[0;34m,\u001b[0m \u001b[0mst\u001b[0m \u001b[0;34m=\u001b[0m \u001b[0mstate_transition\u001b[0m\u001b[0;34m(\u001b[0m\u001b[0mA\u001b[0m\u001b[0;34m,\u001b[0m \u001b[0mxt\u001b[0m\u001b[0;34m,\u001b[0m \u001b[0mst\u001b[0m\u001b[0;34m,\u001b[0m \u001b[0msignal_flag\u001b[0m\u001b[0;34m=\u001b[0m\u001b[0msignal_flag\u001b[0m\u001b[0;34m)\u001b[0m\u001b[0;34m\u001b[0m\u001b[0m\n\u001b[1;32m     19\u001b[0m         \u001b[0mX\u001b[0m\u001b[0;34m.\u001b[0m\u001b[0mappend\u001b[0m\u001b[0;34m(\u001b[0m\u001b[0mxt\u001b[0m\u001b[0;34m)\u001b[0m\u001b[0;34m\u001b[0m\u001b[0m\n",
      "\u001b[0;32m<ipython-input-348-4bb050ca6a87>\u001b[0m in \u001b[0;36mdijkstra_policy\u001b[0;34m(A, xt, source, destination)\u001b[0m\n\u001b[1;32m     55\u001b[0m         \u001b[0;32mwhile\u001b[0m \u001b[0mprev\u001b[0m \u001b[0;32mis\u001b[0m \u001b[0;32mnot\u001b[0m \u001b[0;32mNone\u001b[0m\u001b[0;34m:\u001b[0m\u001b[0;34m\u001b[0m\u001b[0m\n\u001b[1;32m     56\u001b[0m             \u001b[0mtemp\u001b[0m \u001b[0;34m=\u001b[0m \u001b[0medges\u001b[0m\u001b[0;34m[\u001b[0m\u001b[0mprev\u001b[0m\u001b[0;34m]\u001b[0m\u001b[0;34m.\u001b[0m\u001b[0mparent\u001b[0m\u001b[0;34m\u001b[0m\u001b[0m\n\u001b[0;32m---> 57\u001b[0;31m             \u001b[0;32mif\u001b[0m \u001b[0mtemp\u001b[0m\u001b[0;34m==\u001b[0m\u001b[0msource\u001b[0m\u001b[0;34m:\u001b[0m\u001b[0;34m\u001b[0m\u001b[0m\n\u001b[0m\u001b[1;32m     58\u001b[0m                 \u001b[0mdecision\u001b[0m \u001b[0;34m=\u001b[0m \u001b[0mprev\u001b[0m\u001b[0;34m\u001b[0m\u001b[0m\n\u001b[1;32m     59\u001b[0m                 \u001b[0;32mbreak\u001b[0m\u001b[0;34m\u001b[0m\u001b[0m\n",
      "\u001b[0;31mKeyboardInterrupt\u001b[0m: "
     ]
    }
   ],
   "source": [
    "follow_model(A, xt,st, source=6, destination=8, policy=dijkstra_policy, signal_flag=0)"
   ]
  },
  {
   "cell_type": "code",
   "execution_count": 263,
   "metadata": {},
   "outputs": [
    {
     "data": {
      "text/plain": [
       "0"
      ]
     },
     "execution_count": 263,
     "metadata": {},
     "output_type": "execute_result"
    }
   ],
   "source": [
    "prng = np.random.RandomState()\n"
   ]
  },
  {
   "cell_type": "code",
   "execution_count": null,
   "metadata": {},
   "outputs": [],
   "source": [
    "import pickle\n",
    "pickle."
   ]
  }
 ],
 "metadata": {
  "kernelspec": {
   "display_name": "Python 3",
   "language": "python",
   "name": "python3"
  },
  "language_info": {
   "codemirror_mode": {
    "name": "ipython",
    "version": 3
   },
   "file_extension": ".py",
   "mimetype": "text/x-python",
   "name": "python",
   "nbconvert_exporter": "python",
   "pygments_lexer": "ipython3",
   "version": "3.5.2"
  }
 },
 "nbformat": 4,
 "nbformat_minor": 2
}
