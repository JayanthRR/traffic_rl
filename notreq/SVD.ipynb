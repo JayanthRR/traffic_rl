{
 "cells": [
  {
   "cell_type": "code",
   "execution_count": 1,
   "metadata": {},
   "outputs": [],
   "source": [
    "from numpy import linalg\n",
    "import numpy as np\n",
    "from math import floor\n",
    "from matplotlib import pyplot as plt\n",
    "import mpld3"
   ]
  },
  {
   "cell_type": "code",
   "execution_count": null,
   "metadata": {},
   "outputs": [],
   "source": [
    "A1 = np.random.rand(10,6)\n",
    "A2 = np.random.rand(6,9)"
   ]
  },
  {
   "cell_type": "code",
   "execution_count": null,
   "metadata": {},
   "outputs": [],
   "source": [
    "u1,s1,v1 = linalg.svd(A1)\n",
    "A3 = A1.copy()\n",
    "A3[]"
   ]
  },
  {
   "cell_type": "code",
   "execution_count": null,
   "metadata": {},
   "outputs": [],
   "source": [
    "A1.shape[0]\n",
    "p = np.random.choice(A1.shape[1])\n",
    "print(p)"
   ]
  },
  {
   "cell_type": "code",
   "execution_count": null,
   "metadata": {},
   "outputs": [],
   "source": [
    "B1 = A1.copy()\n",
    "B2 = A2.copy()\n",
    "\n",
    "# C1 = A1.copy()\n",
    "# C2 = A2.copy()"
   ]
  },
  {
   "cell_type": "code",
   "execution_count": null,
   "metadata": {},
   "outputs": [],
   "source": [
    "B1[p,:] = [0]*A1.shape[1]\n",
    "B2[:,p] = [0]*A2.shape[0]\n",
    "\n"
   ]
  },
  {
   "cell_type": "code",
   "execution_count": null,
   "metadata": {},
   "outputs": [],
   "source": [
    "# A1, B1, A2, B2"
   ]
  },
  {
   "cell_type": "code",
   "execution_count": null,
   "metadata": {},
   "outputs": [],
   "source": [
    "u1, s1, v1 = linalg.svd(np.matmul(A1, A2))\n",
    "u2, s2, v2 = linalg.svd(np.matmul(B1, B2))"
   ]
  },
  {
   "cell_type": "code",
   "execution_count": null,
   "metadata": {},
   "outputs": [],
   "source": [
    "s1, s2"
   ]
  },
  {
   "cell_type": "code",
   "execution_count": null,
   "metadata": {},
   "outputs": [],
   "source": []
  },
  {
   "cell_type": "code",
   "execution_count": null,
   "metadata": {},
   "outputs": [],
   "source": [
    "l = np.random.choice(10,size=3,replace=False, p=0.1*np.ones(10))\n",
    "l"
   ]
  },
  {
   "cell_type": "code",
   "execution_count": null,
   "metadata": {},
   "outputs": [],
   "source": [
    "\n",
    "num_trials = 100\n",
    "svd_check = []\n",
    "svd_inds = []\n",
    "dim_in = 50\n",
    "dim_h = 30\n",
    "dim_out = 20\n",
    "diff_p = []\n",
    "probabilities = list(np.linspace(0,0.9, num=10))\n",
    "# probabilities = list(np.logspace(-3, -0.01,base=10, num=10))\n",
    "# probabilities = [0.01, 0.1, 0.2, 0.3, 0.5]\n",
    "print(probabilities)\n",
    "for prob in probabilities:\n",
    "\n",
    "    diff = []\n",
    "    for i in range(num_trials):\n",
    "        A1 = np.random.rand(dim_in, dim_h)\n",
    "        A2 = np.random.rand(dim_h, dim_out)\n",
    "        drop_out = [1]*dim_h\n",
    "\n",
    "        while sum(drop_out) >= dim_h: \n",
    "            drop_out = np.random.binomial(1, size=dim_h, p=prob)\n",
    "            drop = [ind  for ind in range(dim_h) if drop_out[ind] ==1]\n",
    "\n",
    "    #     p = np.random.choice(A1.shape[1])\n",
    "    #     print(p)\n",
    "        B1 = A1.copy()\n",
    "        B2 = A2.copy()\n",
    "        for p in drop:\n",
    "            B1[:,p] = [0]*A1.shape[0]\n",
    "            B2[p,:] = [0]*A2.shape[1]\n",
    "\n",
    "        u1, s1, v1 = linalg.svd(np.matmul(A1, A2))\n",
    "        u2, s2, v2 = linalg.svd(np.matmul(B1, B2))\n",
    "        svd_vals = [1 if a > b else 0 for (a,b) in zip(s1,s2)]\n",
    "    #     print(svd_vals)\n",
    "        if prob == 1:\n",
    "#             print(A1, A2, s1)\n",
    "            print(B1, B2, s2)\n",
    "            print(s1[0], s2[0])\n",
    "\n",
    "        diff.append(s1[0]/s2[0])\n",
    "        svd_inds.append([ind for ind, e in enumerate(svd_vals) if e == 0])\n",
    "        svd_check.append(sum(svd_vals))\n",
    "    diff_p.append(np.mean(diff))\n",
    "    plt.plot(diff, label = str(prob))\n",
    "plt.legend()\n",
    "plt.plot(probabilities, diff_p)\n",
    "\n",
    "    "
   ]
  },
  {
   "cell_type": "code",
   "execution_count": null,
   "metadata": {},
   "outputs": [],
   "source": [
    "drop_out = np.random.binomial(1, size=dim_h, p=1)\n",
    "print(drop_out)\n"
   ]
  },
  {
   "cell_type": "code",
   "execution_count": null,
   "metadata": {},
   "outputs": [],
   "source": [
    "np.logspace(-3, 0,base=10, num=10)"
   ]
  },
  {
   "cell_type": "code",
   "execution_count": null,
   "metadata": {},
   "outputs": [],
   "source": [
    "prob = 0.1\n",
    "s = []\n",
    "for i in range(1000):\n",
    "    s.append(sum(np.random.binomial(1,size=10, p=0.5)))\n",
    "    "
   ]
  },
  {
   "cell_type": "code",
   "execution_count": null,
   "metadata": {},
   "outputs": [],
   "source": [
    "np.random.binomial(1,size=10, p=0.5)"
   ]
  },
  {
   "cell_type": "code",
   "execution_count": null,
   "metadata": {},
   "outputs": [],
   "source": [
    "#######################################"
   ]
  },
  {
   "cell_type": "code",
   "execution_count": 68,
   "metadata": {},
   "outputs": [
    {
     "name": "stdout",
     "output_type": "stream",
     "text": [
      "1\n"
     ]
    }
   ],
   "source": [
    "A1 = np.random.rand(3,4)\n",
    "A2 = np.random.rand(2,3)\n",
    "p = np.random.choice(A1.shape[0])\n",
    "print(p)\n",
    "x = np.random.rand(4,1)\n",
    "A1bar = A1.copy()\n",
    "A2bar = A2.copy()\n",
    "A1bar[p,:] = [0]*A1.shape[1]\n",
    "A2bar[:,p] = [0]*A2.shape[0]"
   ]
  },
  {
   "cell_type": "code",
   "execution_count": 69,
   "metadata": {},
   "outputs": [],
   "source": [
    "y = np.matmul(A2, np.matmul(A1,x))\n",
    "ybar = np.matmul(A2bar, np.matmul(A1bar,x))"
   ]
  },
  {
   "cell_type": "code",
   "execution_count": 70,
   "metadata": {},
   "outputs": [],
   "source": [
    "# ydiff = np.matmul(A2-A2bar,np.matmul(A1- A1bar, x))\n",
    "# ydiff = np.matmul(A2[:,p], np.matmul(A1[p,:]))\n",
    "u=A2[:,p]\n",
    "v=A1[p,:]\n",
    "diff = np.matmul(u.reshape(u.shape[0],1),v.reshape(1,v.shape[0]))"
   ]
  },
  {
   "cell_type": "code",
   "execution_count": 71,
   "metadata": {},
   "outputs": [
    {
     "data": {
      "text/plain": [
       "array([[0.3949001 , 0.05391626, 0.12681881, 0.26431947],\n",
       "       [0.08917582, 0.0121753 , 0.02863806, 0.05968827]])"
      ]
     },
     "execution_count": 71,
     "metadata": {},
     "output_type": "execute_result"
    }
   ],
   "source": [
    "diff"
   ]
  },
  {
   "cell_type": "code",
   "execution_count": 55,
   "metadata": {},
   "outputs": [
    {
     "data": {
      "text/plain": [
       "(2, 4)"
      ]
     },
     "execution_count": 55,
     "metadata": {},
     "output_type": "execute_result"
    }
   ],
   "source": [
    "np.matmul(A2,A1).shape"
   ]
  },
  {
   "cell_type": "code",
   "execution_count": 48,
   "metadata": {},
   "outputs": [
    {
     "data": {
      "text/plain": [
       "array([[ True],\n",
       "       [ True]])"
      ]
     },
     "execution_count": 48,
     "metadata": {},
     "output_type": "execute_result"
    }
   ],
   "source": [
    "y == ybar + ydiff"
   ]
  },
  {
   "cell_type": "code",
   "execution_count": 76,
   "metadata": {},
   "outputs": [
    {
     "data": {
      "text/plain": [
       "array([[ 5.55111512e-17,  4.85722573e-17, -2.77555756e-17,\n",
       "         0.00000000e+00],\n",
       "       [ 9.71445147e-17,  3.46944695e-18, -3.46944695e-17,\n",
       "         7.63278329e-17]])"
      ]
     },
     "execution_count": 76,
     "metadata": {},
     "output_type": "execute_result"
    }
   ],
   "source": [
    "A = np.matmul(A2, A1)\n",
    "Abar = np.matmul(A2bar, A1bar)\n",
    "A-Abar - diff"
   ]
  },
  {
   "cell_type": "code",
   "execution_count": 74,
   "metadata": {},
   "outputs": [
    {
     "data": {
      "text/plain": [
       "False"
      ]
     },
     "execution_count": 74,
     "metadata": {},
     "output_type": "execute_result"
    }
   ],
   "source": [
    "np.array_equal(A-Abar, diff)"
   ]
  },
  {
   "cell_type": "code",
   "execution_count": 47,
   "metadata": {},
   "outputs": [
    {
     "data": {
      "text/plain": [
       "array([[ True,  True,  True,  True],\n",
       "       [ True,  True,  True,  True]])"
      ]
     },
     "execution_count": 47,
     "metadata": {},
     "output_type": "execute_result"
    }
   ],
   "source": [
    "np.matmul(A2, A1bar) == np.matmul(A2bar, A1)"
   ]
  },
  {
   "cell_type": "code",
   "execution_count": 77,
   "metadata": {},
   "outputs": [
    {
     "data": {
      "text/plain": [
       "array([[0.5460055 , 0.32018965, 0.75527324, 0.42566899],\n",
       "       [0.92688179, 0.12654847, 0.29766021, 0.6203921 ],\n",
       "       [0.91615123, 0.59912049, 0.43697664, 0.93880146]])"
      ]
     },
     "execution_count": 77,
     "metadata": {},
     "output_type": "execute_result"
    }
   ],
   "source": [
    "A1"
   ]
  },
  {
   "cell_type": "code",
   "execution_count": 89,
   "metadata": {},
   "outputs": [],
   "source": [
    "A = np.zeros((5,5))\n",
    "A[0:3,0:4] = A1"
   ]
  },
  {
   "cell_type": "code",
   "execution_count": 91,
   "metadata": {},
   "outputs": [],
   "source": [
    "u1,s1,v1 = np.linalg.svd(A1)\n",
    "u,s,v = np.linalg.svd(A)"
   ]
  },
  {
   "cell_type": "code",
   "execution_count": 92,
   "metadata": {},
   "outputs": [
    {
     "data": {
      "text/plain": [
       "(array([2.1092332 , 0.47076338, 0.31777329]),\n",
       " array([2.1092332 , 0.47076338, 0.31777329, 0.        , 0.        ]))"
      ]
     },
     "execution_count": 92,
     "metadata": {},
     "output_type": "execute_result"
    }
   ],
   "source": [
    "s1, s"
   ]
  }
 ],
 "metadata": {
  "kernelspec": {
   "display_name": "Python 3",
   "language": "python",
   "name": "python3"
  },
  "language_info": {
   "codemirror_mode": {
    "name": "ipython",
    "version": 3
   },
   "file_extension": ".py",
   "mimetype": "text/x-python",
   "name": "python",
   "nbconvert_exporter": "python",
   "pygments_lexer": "ipython3",
   "version": "3.5.2"
  }
 },
 "nbformat": 4,
 "nbformat_minor": 2
}
